{
  "cells": [
    {
      "cell_type": "markdown",
      "metadata": {
        "id": "Md413FzAvFD8"
      },
      "source": [
        "# DX 704 Week 7 Project\n",
        "\n",
        "This week's project will investigate issues in a quadcopter controller based using a linear quadratic regulator.\n",
        "You will start with an existing model of the system and logs from a quadcopter based on it, investigate discrepancies, and ultimately train a new model of the system dynamics."
      ]
    },
    {
      "cell_type": "markdown",
      "metadata": {
        "id": "PTIhFidP-KvD"
      },
      "source": [
        "The full project description and a template notebook are available on GitHub: [Project 7 Materials](https://github.com/bu-cds-dx704/dx704-project-07).\n"
      ]
    },
    {
      "cell_type": "markdown",
      "metadata": {
        "id": "52eGFDLZdsBy"
      },
      "source": [
        "## Example Code\n",
        "\n",
        "You may find it helpful to refer to these GitHub repositories of Jupyter notebooks for example code.\n",
        "\n",
        "* https://github.com/bu-cds-omds/dx601-examples\n",
        "* https://github.com/bu-cds-omds/dx602-examples\n",
        "* https://github.com/bu-cds-omds/dx603-examples\n",
        "* https://github.com/bu-cds-omds/dx704-examples\n",
        "\n",
        "Any calculations demonstrated in code examples or videos may be found in these notebooks, and you are allowed to copy this example code in your homework answers."
      ]
    },
    {
      "cell_type": "markdown",
      "metadata": {
        "id": "d7IKpQFK_AGF"
      },
      "source": [
        "## Introduction\n",
        "\n",
        "You've just joined a drone startup.\n",
        "On your first day, you join your new team to watch a test flight for a new quadcopter prototype.\n",
        "Watching the prototype fly, the team comments that it is not as smooth as usual and suspects that something is off in the controller.\n",
        "They provide you a copy of the dynamics model and log data from the prototype to investigate."
      ]
    },
    {
      "cell_type": "markdown",
      "metadata": {
        "id": "_Ks7EK6h3ktC"
      },
      "source": [
        "The quadcopter control model is a slightly more sophisticated version of the 1D quadcopter problem previously considered.\n",
        "\n",
        "The state vector $\\mathbf{x}_t$ now includes an acceleration component, and the action vector now has a servo control for the throttle instead of a raw force component.\n",
        "\\begin{array}{rcl}\n",
        "\\mathbf{x}_t & = & \\begin{bmatrix} x_t \\\\ v_t \\\\ a_t \\end{bmatrix} \\\\\n",
        "\\mathbf{u_t} & = & \\begin{bmatrix} u_t \\end{bmatrix}\n",
        "\\end{array}"
      ]
    },
    {
      "cell_type": "markdown",
      "metadata": {
        "id": "C8oSLkMqvMFF"
      },
      "source": [
        "## Part 1: Reconstruct the Control Matrix\n",
        "\n",
        "You are provided the dynamics model in the files `model-A.tsv`, `model-B.tsv`, `cost-Q.tsv` and `cost-R.tsv`.\n",
        "Recompute the control matrix $\\mathbf{K}$ to be used in the infinite horizon linear quadratic regulator problem."
      ]
    },
    {
      "cell_type": "code",
      "execution_count": 1,
      "metadata": {
        "id": "Pdpurx_Ym3F6"
      },
      "outputs": [
        {
          "name": "stdout",
          "output_type": "stream",
          "text": [
            "K row (u = -K x):\n",
            "[[0.33445985 1.30445413 1.85813088]]\n",
            "Closed-loop eigenvalues: [0.36935751+0.j         0.3862558 +0.39200236j 0.3862558 -0.39200236j]\n"
          ]
        },
        {
          "data": {
            "text/plain": [
              "Ellipsis"
            ]
          },
          "execution_count": 1,
          "metadata": {},
          "output_type": "execute_result"
        }
      ],
      "source": [
        "# YOUR CHANGES HERE\n",
        "import numpy as np\n",
        "import pandas as pd\n",
        "\n",
        "# ---- Load labeled TSVs into numpy arrays ----\n",
        "def load_matrix(path):\n",
        "    return pd.read_csv(path, sep=\"\\t\", index_col=0).astype(float)\n",
        "\n",
        "A_df = load_matrix(\"model-A.tsv\")\n",
        "B_df = load_matrix(\"model-B.tsv\")\n",
        "Q_df = load_matrix(\"cost-Q.tsv\")\n",
        "R_df = load_matrix(\"cost-R.tsv\")\n",
        "\n",
        "A = A_df.values\n",
        "B = B_df.values\n",
        "Q = Q_df.values\n",
        "R = R_df.values\n",
        "\n",
        "# ---- Discrete-time LQR via Riccati iteration ----\n",
        "def dlqr(A, B, Q, R, max_iters=10000, tol=1e-12):\n",
        "    P = Q.copy()\n",
        "    for _ in range(max_iters):\n",
        "        BtP = B.T @ P\n",
        "        S = R + BtP @ B                 # R + B' P B\n",
        "        K = np.linalg.solve(S, BtP @ A) # (R + B' P B)^-1 B' P A\n",
        "        P_next = A.T @ P @ A - A.T @ P @ B @ K + Q\n",
        "        if np.linalg.norm(P_next - P, ord='fro') < tol:\n",
        "            P = P_next\n",
        "            break\n",
        "        P = P_next\n",
        "    # final K (in case we exited on tol)\n",
        "    BtP = B.T @ P\n",
        "    K = np.linalg.solve(R + BtP @ B, BtP @ A)\n",
        "    return K, P\n",
        "\n",
        "K, P = dlqr(A, B, Q, R)\n",
        "\n",
        "# ---- Print and save ----\n",
        "print(\"K row (u = -K x):\")\n",
        "print(K)\n",
        "\n",
        "# Save with state labels\n",
        "K_df = pd.DataFrame(K, columns=A_df.columns, index=[\"u\"])\n",
        "K_df.to_csv(\"control-K.tsv\", sep=\"\\t\")\n",
        "\n",
        "# (Optional) quick stability check\n",
        "eigvals = np.linalg.eigvals(A - B @ K)\n",
        "print(\"Closed-loop eigenvalues:\", eigvals)\n",
        "\n",
        "..."
      ]
    },
    {
      "cell_type": "markdown",
      "metadata": {
        "id": "BDS1s6W9m5G1"
      },
      "source": [
        "Save $\\mathbf{K}$ in a file \"control-K-intended.tsv\" with columns x, v and a."
      ]
    },
    {
      "cell_type": "code",
      "execution_count": 2,
      "metadata": {
        "id": "heCP8JhgnEIC"
      },
      "outputs": [
        {
          "name": "stdout",
          "output_type": "stream",
          "text": [
            "K (u = -Kx):\n",
            " [[0.33445985 1.30445413 1.85813088]]\n",
            "Closed-loop eigenvalues: [0.36935751+0.j         0.3862558 +0.39200236j 0.3862558 -0.39200236j]\n"
          ]
        },
        {
          "data": {
            "text/plain": [
              "Ellipsis"
            ]
          },
          "execution_count": 2,
          "metadata": {},
          "output_type": "execute_result"
        }
      ],
      "source": [
        "# YOUR CHANGES HERE\n",
        "\n",
        "\n",
        "import numpy as np, pandas as pd\n",
        "\n",
        "# Load labeled TSVs → numeric arrays\n",
        "A = pd.read_csv(\"model-A.tsv\", sep=\"\\t\", index_col=0).astype(float).values\n",
        "B = pd.read_csv(\"model-B.tsv\", sep=\"\\t\", index_col=0).astype(float).values\n",
        "Q = pd.read_csv(\"cost-Q.tsv\",  sep=\"\\t\", index_col=0).astype(float).values\n",
        "R = pd.read_csv(\"cost-R.tsv\",  sep=\"\\t\", index_col=0).astype(float).values\n",
        "\n",
        "# Tiny discrete-time LQR (Riccati iteration)\n",
        "P = Q.copy()\n",
        "for _ in range(10000):\n",
        "    BtP = B.T @ P\n",
        "    K = np.linalg.solve(R + BtP @ B, BtP @ A)              # (R+B'PB)^-1 B' P A\n",
        "    Pn = A.T @ P @ A - A.T @ P @ B @ K + Q                 # Riccati update\n",
        "    if np.linalg.norm(Pn - P, 'fro') < 1e-12: break\n",
        "    P = Pn\n",
        "K = np.linalg.solve(R + (B.T @ P) @ B, (B.T @ P) @ A)      # final K\n",
        "\n",
        "# Save exactly as requested\n",
        "pd.DataFrame(K, columns=[\"x\",\"v\",\"a\"], index=[\"u\"]).to_csv(\"control-K-intended.tsv\", sep=\"\\t\")\n",
        "\n",
        "# (Optional) quick check\n",
        "print(\"K (u = -Kx):\\n\", K)\n",
        "print(\"Closed-loop eigenvalues:\", np.linalg.eigvals(A - B @ K))\n",
        "\n",
        "..."
      ]
    },
    {
      "cell_type": "markdown",
      "metadata": {
        "id": "emwSwtKjnG8y"
      },
      "source": [
        "Submit \"control-K-intended.tsv\" in Gradescope."
      ]
    },
    {
      "cell_type": "markdown",
      "metadata": {
        "id": "fqbtALHx_z7l"
      },
      "source": [
        "## Part 2: Recompute the Actions for the Logged States\n",
        "\n",
        "You get access to the log data for the prototype as the file \"qc-log.tsv\".\n",
        "It conveniently saves all the state and actions made.\n",
        "Recompute the actions based on your $\\mathbf{K}$ matrix computed in part 1."
      ]
    },
    {
      "cell_type": "code",
      "execution_count": 4,
      "metadata": {
        "id": "DsbCg2TjoFpp"
      },
      "outputs": [
        {
          "name": "stdout",
          "output_type": "stream",
          "text": [
            "Saved qc-check.tsv with columns 'index' and 'u_check'\n"
          ]
        },
        {
          "data": {
            "text/plain": [
              "Ellipsis"
            ]
          },
          "execution_count": 4,
          "metadata": {},
          "output_type": "execute_result"
        }
      ],
      "source": [
        "# YOUR CHANGES HERE\n",
        "import pandas as pd\n",
        "import numpy as np\n",
        "\n",
        "# ---- Load data ----\n",
        "log = pd.read_csv(\"qc-log.tsv\", sep=\"\\t\")     # contains logged states x, v, a\n",
        "K = pd.read_csv(\"control-K-intended.tsv\", sep=\"\\t\", index_col=0).values[0]  # load K row\n",
        "\n",
        "# ---- Compute actions ----\n",
        "X = log[[\"x\", \"v\", \"a\"]].values\n",
        "u_check = -X @ K                              # u = -Kx\n",
        "\n",
        "# ---- Save results ----\n",
        "out = pd.DataFrame({\"index\": log.index, \"u_check\": u_check})\n",
        "out.to_csv(\"qc-check.tsv\", sep=\"\\t\", index=False)\n",
        "\n",
        "print(\"Saved qc-check.tsv with columns 'index' and 'u_check'\")\n",
        "\n",
        "..."
      ]
    },
    {
      "cell_type": "markdown",
      "metadata": {
        "id": "6Z2gHEGBoIjL"
      },
      "source": [
        "Save your computed actions as \"qc-check.tsv\" with columns \"index\" and \"u_check\"."
      ]
    },
    {
      "cell_type": "code",
      "execution_count": null,
      "metadata": {
        "id": "vbyMYtMLoS72"
      },
      "outputs": [],
      "source": [
        "# YOUR CHANGES HERE\n",
        "\n",
        "..."
      ]
    },
    {
      "cell_type": "markdown",
      "metadata": {
        "id": "PDCUyNOfoUzm"
      },
      "source": [
        "Submit \"qc-check.tsv\" in Gradescope."
      ]
    },
    {
      "cell_type": "markdown",
      "metadata": {
        "id": "7Z20uZNHABA-"
      },
      "source": [
        "## Part 3: Reverse Engineer the Actual Control Matrix\n",
        "\n",
        "Now that you have found a systematic difference between your computed actions and the logged actions, estimate $\n",
        "$, the control matrix that was actually used to choose actions in the prototype."
      ]
    },
    {
      "cell_type": "markdown",
      "metadata": {
        "id": "lGoHdtel2iVm"
      },
      "source": [
        "Hint: With a linear quadratic regulator, the optimal actions are always linear combinations of the state that are calculated using the control matrix.\n",
        "You can use linear regression to reverse-engineer the coefficients in the control matrix."
      ]
    },
    {
      "cell_type": "code",
      "execution_count": 5,
      "metadata": {
        "id": "Ab7XnMej21RN"
      },
      "outputs": [
        {
          "name": "stdout",
          "output_type": "stream",
          "text": [
            "Saved control-K-actual.tsv\n",
            "          x        v         a\n",
            "u  0.340438  1.30012  1.950117\n"
          ]
        },
        {
          "data": {
            "text/plain": [
              "Ellipsis"
            ]
          },
          "execution_count": 5,
          "metadata": {},
          "output_type": "execute_result"
        }
      ],
      "source": [
        "# YOUR CHANGES HERE\n",
        "\n",
        "import pandas as pd\n",
        "import numpy as np\n",
        "from sklearn.linear_model import LinearRegression\n",
        "\n",
        "# ---- Load logged data ----\n",
        "log = pd.read_csv(\"qc-log.tsv\", sep=\"\\t\")     # must have columns: x, v, a, u\n",
        "\n",
        "# ---- Prepare data for regression ----\n",
        "X = log[[\"x\", \"v\", \"a\"]].values\n",
        "y = log[\"u\"].values\n",
        "\n",
        "# ---- Fit linear regression: u = -K_actual x ----\n",
        "reg = LinearRegression(fit_intercept=False)\n",
        "reg.fit(X, y)\n",
        "\n",
        "K_actual = -reg.coef_    # negative sign because LQR uses u = -Kx\n",
        "\n",
        "# ---- Save same format as intended ----\n",
        "K_df = pd.DataFrame([K_actual], columns=[\"x\", \"v\", \"a\"], index=[\"u\"])\n",
        "K_df.to_csv(\"control-K-actual.tsv\", sep=\"\\t\")\n",
        "\n",
        "print(\"Saved control-K-actual.tsv\")\n",
        "print(K_df)\n",
        "\n",
        "..."
      ]
    },
    {
      "cell_type": "markdown",
      "metadata": {
        "id": "M7zG_6NT23fq"
      },
      "source": [
        "Save $\\mathbf{K}_{\\mathrm{actual}}$ in \"control-K-actual.tsv\" with the same format as \"control-K-intended.tsv\"."
      ]
    },
    {
      "cell_type": "code",
      "execution_count": null,
      "metadata": {
        "id": "hPAaZI3M3DKB"
      },
      "outputs": [],
      "source": [
        "# YOUR CHANGES HERE\n",
        "\n",
        "..."
      ]
    },
    {
      "cell_type": "markdown",
      "metadata": {
        "id": "EFmODg3W3D2u"
      },
      "source": [
        "Submit \"actual-K.tsv\" in Gradescope."
      ]
    },
    {
      "cell_type": "markdown",
      "metadata": {
        "id": "wSuXyz6LAYjK"
      },
      "source": [
        "## Part 4: Recompute the System Dynamics from the Log Data\n",
        "\n",
        "On further investigation, it turns out that the control matrix $\\mathbf{K}$ in the prototype was modified to compensate for state prediction errors.\n",
        "You would like to recompute the $\\mathbf{A}$ and $\\mathbf{B}$ matrices using the log data since they are used to predict the next states.\n",
        "However, since the action vector $\\mathbf{u}_t$ is linearly dependent on the state via $\\mathbf{u}_t=-\\mathbf{K} \\mathbf{x}_t$, you need a new data set so you can separate the effects of the $\\mathbf{A}$ and $\\mathbf{B}$ matrices.\n",
        "Your co-workers kindly provide a new file \"qc-train.tsv\" where noise was added to each action.\n",
        "Estimate the true $\\mathbf{A}$ and $\\mathbf{B}$ matrices based on this file."
      ]
    },
    {
      "cell_type": "code",
      "execution_count": null,
      "metadata": {
        "id": "13UYre915olG"
      },
      "outputs": [
        {
          "name": "stdout",
          "output_type": "stream",
          "text": [
            "A_new:\n",
            "               x             v             a\n",
            "x  1.000000e+00 -1.281955e-16 -9.313780e-17\n",
            "v  1.100000e+00  9.000000e-01  5.551115e-16\n",
            "a  2.886580e-15  9.500000e-01  1.100000e+00\n",
            "\n",
            "B_new:\n",
            "               u\n",
            "x -1.110223e-16\n",
            "v -1.000000e-02\n",
            "a  9.000000e-01\n"
          ]
        },
        {
          "data": {
            "text/plain": [
              "Ellipsis"
            ]
          },
          "execution_count": 6,
          "metadata": {},
          "output_type": "execute_result"
        }
      ],
      "source": [
        "# YOUR CHANGES HERE\n",
        "import numpy as np\n",
        "import pandas as pd\n",
        "\n",
        "# ---------- Load training data ----------\n",
        "df = pd.read_csv(\"qc-train.tsv\", sep=\"\\t\")\n",
        "\n",
        "# If your file already has explicit next-state columns like x_next/v_next/a_next,\n",
        "# uncomment the next three lines and comment out the shift block below.\n",
        "# Y = df[[\"x_next\", \"v_next\", \"a_next\"]].values\n",
        "# X = df[[\"x\", \"v\", \"a\"]].values\n",
        "# U = df[[\"u\"]].values\n",
        "\n",
        "# Build next-state by shifting (robust default)\n",
        "df[\"x_next\"] = df[\"x\"].shift(-1)\n",
        "df[\"v_next\"] = df[\"v\"].shift(-1)\n",
        "df[\"a_next\"] = df[\"a\"].shift(-1)\n",
        "df = df.dropna().reset_index(drop=True)\n",
        "\n",
        "X = df[[\"x\", \"v\", \"a\"]].values          # (N, 3)\n",
        "U = df[[\"u\"]].values                    # (N, 1)\n",
        "Y = df[[\"x_next\", \"v_next\", \"a_next\"]].values  # (N, 3)\n",
        "\n",
        "# ---------- Least-squares: [A | B] from Y ≈ [X U] @ Theta ----------\n",
        "Z = np.hstack([X, U])                   # (N, 4)\n",
        "Theta, *_ = np.linalg.lstsq(Z, Y, rcond=None)  # Theta shape (4, 3)\n",
        "\n",
        "A_new = Theta[:3, :]                    # (3, 3)  maps x_t → x_{t+1}\n",
        "B_new = Theta[3:, :].T                  # (3, 1)  maps u_t → x_{t+1}; transpose to (3,1)\n",
        "\n",
        "# ---------- Save with labels ----------\n",
        "A_df = pd.DataFrame(A_new, index=[\"x\",\"v\",\"a\"], columns=[\"x\",\"v\",\"a\"])\n",
        "B_df = pd.DataFrame(B_new, index=[\"x\",\"v\",\"a\"], columns=[\"u\"])\n",
        "\n",
        "A_df.to_csv(\"model-A-new.tsv\", sep=\"\\t\")\n",
        "B_df.to_csv(\"model-B-new.tsv\", sep=\"\\t\")\n",
        "\n",
        "\n",
        "..."
      ]
    },
    {
      "cell_type": "markdown",
      "metadata": {
        "id": "_Sxidkjb5phM"
      },
      "source": [
        "Save $\\mathbf{A}$ and $\\mathbf{B}$ to \"model-A-new.tsv\" and \"model-B-new.tsv\" respectively."
      ]
    },
    {
      "cell_type": "code",
      "execution_count": null,
      "metadata": {
        "id": "LzcREdX_5pFS"
      },
      "outputs": [],
      "source": [
        "# YOUR CHANGES HERE\n",
        "\n",
        "..."
      ]
    },
    {
      "cell_type": "markdown",
      "metadata": {
        "id": "UNkBsDgD5vIn"
      },
      "source": [
        "Submit \"model-A-new.tsv\" and \"model-B-new.tsv\" in Gradescope."
      ]
    },
    {
      "cell_type": "markdown",
      "metadata": {
        "id": "smsTLuFcvR-I"
      },
      "source": [
        "## Part 5: Code\n",
        "\n",
        "Please submit a Jupyter notebook that can reproduce all your calculations and recreate the previously submitted files.\n",
        "You do not need to provide code for data collection if you did that by manually."
      ]
    },
    {
      "cell_type": "markdown",
      "metadata": {
        "id": "zi8lV2pbvWMs"
      },
      "source": [
        "## Part 6: Acknowledgements\n",
        "\n",
        "If you discussed this assignment with anyone, please acknowledge them here.\n",
        "If you did this assignment completely on your own, simply write none below.\n",
        "\n",
        "If you used any libraries not mentioned in this module's content, please list them with a brief explanation what you used them for. If you did not use any other libraries, simply write none below.\n",
        "\n",
        "If you used any generative AI tools, please add links to your transcripts below, and any other information that you feel is necessary to comply with the generative AI policy. If you did not use any generative AI tools, simply write none below."
      ]
    }
  ],
  "metadata": {
    "colab": {
      "toc_visible": false
    },
    "kernelspec": {
      "display_name": "Python 3",
      "name": "python3"
    },
    "language_info": {
      "codemirror_mode": {
        "name": "ipython",
        "version": 3
      },
      "file_extension": ".py",
      "mimetype": "text/x-python",
      "name": "python",
      "nbconvert_exporter": "python",
      "pygments_lexer": "ipython3",
      "version": "3.12.1"
    }
  },
  "nbformat": 4,
  "nbformat_minor": 0
}
